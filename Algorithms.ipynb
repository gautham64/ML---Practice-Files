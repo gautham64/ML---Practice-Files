{
 "cells": [
  {
   "cell_type": "code",
   "execution_count": 31,
   "metadata": {},
   "outputs": [],
   "source": [
    "import numpy as np\n",
    "import pandas as pd\n",
    "from sklearn.model_selection import train_test_split\n",
    "from sklearn.tree import DecisionTreeClassifier\n",
    "from sklearn.metrics import accuracy_score\n",
    "from sklearn import tree"
   ]
  },
  {
   "cell_type": "code",
   "execution_count": 41,
   "metadata": {},
   "outputs": [],
   "source": [
    "#DecisionTree\n",
    "url = \"http://mlr.cs.umass.edu/ml/machine-learning-databases/iris/iris.data\"\n",
    "balance_data = pd.read_csv(url,header=None)\n",
    "#balance_data.shape\n",
    "X=balance_data.values[:,0:4]\n",
    "Y=balance_data.values[:,4]\n",
    "X_train,X_test,y_train,y_test=train_test_split(X,Y,test_size=0.3,random_state=100)\n",
    "clf_entropy=DecisionTreeClassifier(criterion=\"entropy\",random_state=100,max_depth=5,min_samples_leaf=5)\n",
    "clf_entropy.fit(X_train,y_train)\n",
    "y_pred=clf_entropy.predict(X_test)\n",
    "#y_pred\n",
    "#accuracy_score(y_test,y_pred)*100"
   ]
  },
  {
   "cell_type": "code",
   "execution_count": 38,
   "metadata": {},
   "outputs": [
    {
     "data": {
      "text/plain": [
       "array(['virginica'], dtype='<U10')"
      ]
     },
     "execution_count": 38,
     "metadata": {},
     "output_type": "execute_result"
    }
   ],
   "source": [
    "#RandomForest\n",
    "from sklearn.ensemble import RandomForestClassifier\n",
    "from sklearn.datasets import load_iris\n",
    "np.random.seed(0)\n",
    "iris=load_iris()\n",
    "df=pd.DataFrame(iris.data,columns=iris.feature_names)\n",
    "df['species']=pd.Categorical.from_codes(iris.target,iris.target_names) \n",
    "df['is_train']=np.random.uniform(0,1,len(df)) <= .75\n",
    "train,test=df[df['is_train']==True],df[df['is_train']==False]\n",
    "#len(train)\n",
    "features=df.columns[:4]\n",
    "y=pd.factorize(train['species'])[0]\n",
    "#n_jobs to set priority\n",
    "clf=RandomForestClassifier(n_jobs=2,random_state=0)\n",
    "clf.fit(train[features],y)\n",
    "#use the trained classifier to test\n",
    "clf.predict(test[features])\n",
    "#view the predicted probablities to arrive the result - Multiple decision trees\n",
    "clf.predict_proba(test[features])[10:20]\n",
    "preds=iris.target_names[clf.predict(test[features])]\n",
    "#Confusion matrix\n",
    "pd.crosstab(test['species'],preds,rownames=['Actuals'],colnames=['Predicted'])\n",
    "#Check with values\n",
    "iris.target_names[clf.predict([[5.0,2.6,1.2,2.1]])]"
   ]
  },
  {
   "cell_type": "code",
   "execution_count": 1,
   "metadata": {},
   "outputs": [
    {
     "name": "stderr",
     "output_type": "stream",
     "text": [
      "Downloading 20news dataset. This may take a few minutes.\n",
      "Downloading dataset from https://ndownloader.figshare.com/files/5975967 (14 MB)\n"
     ]
    }
   ],
   "source": [
    "#%matplotlib inline\n",
    "#import matplotlib.pyplot as plt\n",
    "#import seaborn as sns; sns.set()\n",
    "#from sklearn.datasets import fetch_20newsgroups\n",
    "#data=fetch_20newsgroups()"
   ]
  },
  {
   "cell_type": "code",
   "execution_count": 13,
   "metadata": {},
   "outputs": [],
   "source": [
    "categories=data.target_names\n",
    "train=fetch_20newsgroups(subset='train', categories=categories)\n",
    "test=fetch_20newsgroups(subset='test', categories=categories)\n",
    "#print (train.data[5])\n",
    "from sklearn.feature_extraction.text import TfidfVectorizer\n",
    "from sklearn.naive_bayes import MultinomialNB\n",
    "from sklearn.pipeline import make_pipeline\n",
    "#words are weighted\n",
    "model=make_pipeline(TfidfVectorizer(),MultinomialNB())\n",
    "model.fit(train.data,train.target)\n",
    "labels=model.predict(test.data)"
   ]
  },
  {
   "cell_type": "code",
   "execution_count": null,
   "metadata": {},
   "outputs": [],
   "source": [
    "from sklearn.metrics import confusion_matrix\n",
    "#confusion marix - to check how confused is the answer?\n",
    "mat=confusion_matrix(test.target,labels)\n",
    "sns.heatmap(mat.T,xticklabels=train.target_names,yticklabels=train.target_names,square=True,annot=True,cbar=False,fmt='d')\n",
    "plt.xlabel('true label')\n",
    "plt.ylabel('predicted label')\n",
    "#validation\n",
    "def pred_category(s,train=train,model=model):\n",
    "    pred=model.predict([s])\n",
    "    print(pred)\n",
    "    return train.target_names[pred[0]]\n",
    "pred_category('Space station')\n",
    "#train.target_names[1]"
   ]
  },
  {
   "cell_type": "code",
   "execution_count": 15,
   "metadata": {},
   "outputs": [
    {
     "data": {
      "text/plain": [
       "0.9112695892268783"
      ]
     },
     "execution_count": 15,
     "metadata": {},
     "output_type": "execute_result"
    }
   ],
   "source": [
    "#Linear Regression - To be tested after having the data\n",
    "import numpy as np\n",
    "import pandas as pd\n",
    "companies=pd.read_csv('1000_Companies.csv')\n",
    "X=companies.iloc[:,:-1].values\n",
    "Y=companies.iloc[:,4].values\n",
    "#print(X)\n",
    "from sklearn.preprocessing import LabelEncoder,OneHotEncoder\n",
    "labelencoder=LabelEncoder()\n",
    "X[:,3]=labelencoder.fit_transform(X[:,3])\n",
    "onehotencoder=OneHotEncoder(categorical_features=[3])\n",
    "X=onehotencoder.fit_transform(X).toarray()\n",
    "#print(X)\n",
    "from sklearn.model_selection import train_test_split\n",
    "X_train,X_test,y_train,y_test=train_test_split(X,Y,test_size=0.2,random_state=0)\n",
    "from sklearn.linear_model import LinearRegression\n",
    "regressor=LinearRegression()\n",
    "regressor.fit(X_train,y_train)\n",
    "y_predict=regressor.predict(X_test)\n",
    "#y_predict\n",
    "#print(regressor.coef_)\n",
    "#print(regressor.intercept_)\n",
    "from sklearn.metrics import r2_score\n",
    "r2_score(y_test,y_predict)"
   ]
  },
  {
   "cell_type": "code",
   "execution_count": null,
   "metadata": {},
   "outputs": [],
   "source": [
    "#LogisticRegression\n",
    "import matplotlib.pyplot as plt\n",
    "import seaborn as sns;\n",
    "from sklearn.datasets import load_digits\n",
    "from sklearn.model_selection import train_test_split\n",
    "from sklearn import metrics\n",
    "%matplotlib inline\n",
    "digits=load_digits()\n",
    "digits.target.shape\n",
    "plt.figure(figsize=(20,4))\n",
    "#Display numbers in pixel forms\n",
    "#for index,(image,label) in enumerate(zip(digits.data[0:5],digits.target[0:5])):\n",
    "#    plt.subplot(1,5,index+1)\n",
    "#    plt.imshow(np.reshape(image,(8,8)), cmap=plt.cm.gray)\n",
    "#    plt.title('Training: %i\\n' %label, fontsize=20)\n",
    "from sklearn.model_selection import train_test_split\n",
    "X_train,X_test,y_train,y_test=train_test_split(digits.data,digits.target,test_size=0.23,random_state=2)   \n",
    "X_test.shape\n",
    "from sklearn.linear_model import LogisticRegression\n",
    "regr=LogisticRegression()\n",
    "regr.fit(X_train,y_train)\n",
    "#print(regr.predict(X_test[0].reshape(1,-1))) #reshape to onedimesional\n",
    "regr.predict(X_test[0:10])\n",
    "score=regr.score(X_test,y_test)\n",
    "#score\n",
    "predictions=regr.predict(X_test)\n",
    "cm=metrics.confusion_matrix(y_test,predictions)\n",
    "cm #displays the confusion matrix\n",
    "plt.figure(figsize=(9,9))\n",
    "sns.heatmap(cm,annot=True,fmt=\".3f\",linewidths=.5,square=True,cmap='Blues_r')\n",
    "plt.ylabel('Actuals')\n",
    "plt.xlabel('Predicted')\n",
    "all_sample_title='Accuracy score {0}'.format(score)\n",
    "plt.title(all_sample_title,size=15)"
   ]
  },
  {
   "cell_type": "code",
   "execution_count": 37,
   "metadata": {},
   "outputs": [],
   "source": [
    "#Knn\n",
    "import pandas as pd\n",
    "import numpy as np\n",
    "from sklearn.model_selection import train_test_split\n",
    "from sklearn.preprocessing import StandardScaler\n",
    "from sklearn.neighbors import KNeighborsClassifier\n",
    "from sklearn.metrics import confusion_matrix\n",
    "from sklearn.metrics import f1_score\n",
    "from sklearn.metrics import accuracy_score\n",
    "dataset=pd.read_csv('diabetes.csv')\n",
    "#len(dataset)\n",
    "zero_not_accepted=['Glucose','BloodPressure','SkinThickness','BMI','Insulin']\n",
    "for column in zero_not_accepted:\n",
    "    dataset[column]=dataset[column].replace(0,np.NaN)\n",
    "    mean=int(dataset[column].mean(skipna=True))\n",
    "    dataset[column]=dataset[column].replace(np.NaN,mean)\n",
    "X=dataset.iloc[:,0:8]\n",
    "y=dataset.iloc[:,8]\n",
    "X_train,X_test,y_train,y_test = train_test_split(X,y,random_state=0,test_size=0.2)\n",
    "sc_X=StandardScaler()\n",
    "#print(X_train)\n",
    "X_train=sc_X.fit_transform(X_train)\n",
    "X_test=sc_X.fit_transform(X_test)\n",
    "#print(X_train)\n",
    "import math\n",
    "math.sqrt(len(y_test))\n",
    "classifier=KNeighborsClassifier(n_neighbors=11,p=2,metric='euclidean')\n",
    "classifier.fit(X_train,y_train)\n",
    "y_pred=classifier.predict(X_test)\n",
    "cm=confusion_matrix(y_test,y_pred)\n",
    "#print(cm) \n",
    "#print(f1_score(y_test,y_pred))\n",
    "#print(accuracy_score(y_test,y_pred))"
   ]
  },
  {
   "cell_type": "code",
   "execution_count": 59,
   "metadata": {
    "scrolled": true
   },
   "outputs": [
    {
     "data": {
      "image/png": "[encoded data removed]",
      "text/plain": [
       "<Figure size 432x288 with 1 Axes>"
      ]
     },
     "metadata": {},
     "output_type": "display_data"
    }
   ],
   "source": [
    "#SVM\n",
    "import numpy as np\n",
    "import matplotlib.pyplot as plt\n",
    "from sklearn import svm\n",
    "from sklearn.datasets.samples_generator import make_blobs\n",
    "X,y=make_blobs(n_samples=40,centers=2,random_state=20)\n",
    "clf=svm.SVC(kernel='linear',C=1000)\n",
    "clf.fit(X,y)\n",
    "#plot\n",
    "plt.scatter(X[:,0],X[:,1],c=y, s=30,cmap=plt.cm.Paired)\n",
    "#plt.show()\n",
    "ax=plt.gca()\n",
    "xlim=ax.get_xlim()\n",
    "ylim=ax.get_ylim()\n",
    "xx=np.linspace(xlim[0],xlim[1],30)\n",
    "yy=np.linspace(ylim[0],ylim[1],30)\n",
    "YY,XX=np.meshgrid(yy,xx)\n",
    "xy=np.vstack([XX.ravel(), YY.ravel()]).T\n",
    "Z=clf.decision_function(xy).reshape(XX.shape)\n",
    "ax.contour(XX,YY,Z,colors='k',levels=[-1,0,1],alpha=0.5,linestyles=['--','-','--'])\n",
    "ax.scatter(clf.support_vectors_[:,0],clf.support_vectors_[:,1],s=100,linewidths=1,facecolors='none')\n",
    "plt.show()\n",
    "#newData=[[3,4],[5,6]]\n",
    "#print(clf.predict(newData))\n"
   ]
  },
  {
   "cell_type": "code",
   "execution_count": null,
   "metadata": {},
   "outputs": [],
   "source": []
  }
 ],
 "metadata": {
  "kernelspec": {
   "display_name": "Python 3",
   "language": "python",
   "name": "python3"
  },
  "language_info": {
   "codemirror_mode": {
    "name": "ipython",
    "version": 3
   },
   "file_extension": ".py",
   "mimetype": "text/x-python",
   "name": "python",
   "nbconvert_exporter": "python",
   "pygments_lexer": "ipython3",
   "version": "3.7.0"
  }
 },
 "nbformat": 4,
 "nbformat_minor": 2
}
